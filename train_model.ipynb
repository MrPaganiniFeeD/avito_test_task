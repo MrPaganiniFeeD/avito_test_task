{
 "cells": [
  {
   "cell_type": "code",
   "execution_count": null,
   "metadata": {},
   "outputs": [],
   "source": [
    "from ultralytics import YOLO\n",
    "\n",
    "# Загружаем предобученную модель\n",
    "model = YOLO(\"yolo11m.pt\")\n",
    "\n",
    "# Путь к data.yaml объединённого датасета\n",
    "data_path = \"dataset/combined/data.yaml\"\n",
    "\n",
    "\n",
    "# Обучение\n",
    "results = model.train(\n",
    "    data=data_path,\n",
    "    epochs=200,\n",
    "    cache=True,\n",
    "    imgsz=640,\n",
    "    batch=32,\n",
    "    mosaic=True,\n",
    "    mixup=True,\n",
    "    hsv_h=0.015,\n",
    "    hsv_s=0.7,\n",
    "    hsv_v=0.4,\n",
    "    save_period=5,\n",
    "    patience=10,           \n",
    "    device=\"0,1\"          \n",
    ")\n",
    "\n",
    "# Валидация\n",
    "results = model.val()\n",
    "print(f\"mAP50: {results.box.map50}\")\n",
    "print(f\"mAP50-95: {results.box.map}\")\n",
    "print(f\"Precision: {results.box.mp}\")\n",
    "print(f\"Recall: {results.box.mr}\")\n",
    "\n",
    "\n",
    "success = model.export(format=\"onnx\")\n"
   ]
  },
  {
   "cell_type": "code",
   "execution_count": 7,
   "metadata": {},
   "outputs": [
    {
     "name": "stdout",
     "output_type": "stream",
     "text": [
      "Ultralytics 8.3.202  Python-3.12.5 torch-2.8.0+cpu CPU (AMD Ryzen 5 5600H with Radeon Graphics)\n",
      "YOLO11m summary (fused): 125 layers, 20,030,803 parameters, 0 gradients, 67.6 GFLOPs\n",
      "\u001b[34m\u001b[1mval: \u001b[0mFast image access  (ping: 0.00.0 ms, read: 504.6385.8 MB/s, size: 49.0 KB)\n",
      "\u001b[K\u001b[34m\u001b[1mval: \u001b[0mScanning C:\\Users\\Егор\\VsCode project\\avito_test_task\\dataset\\combined\\labels\\val.cache... 1215 images, 0 backgrounds, 0 corrupt: 100% ━━━━━━━━━━━━ 1215/1215 1.2Mit/s 0.0s\n",
      "\u001b[K                 Class     Images  Instances      Box(P          R      mAP50  mAP50-95): 100% ━━━━━━━━━━━━ 76/76 0.1it/s 8:356.7ss\n",
      "                   all       1215       2671      0.851      0.458      0.667      0.589\n",
      "Speed: 2.2ms preprocess, 416.7ms inference, 0.0ms loss, 0.3ms postprocess per image\n",
      "Results saved to \u001b[1mC:\\Users\\\\VsCode project\\avito_test_task\\runs\\detect\\val4\u001b[0m\n",
      "mAP50: 0.6668522805732586\n",
      "mAP50-95: 0.5890737641441246\n",
      "Precision: 0.8510786360473208\n",
      "Recall: 0.45788094346686636\n"
     ]
    }
   ],
   "source": [
    "data_path = r\"dataset\\combined\\data.yaml\"\n",
    "model = YOLO(r\"C:\\Users\\Егор\\VsCode project\\avito_test_task\\models\\yolo11m_100epoch\\kaggle\\working\\runs\\detect\\train\\weights\\last.pt\")\n",
    "results = model.val(data=data_path, split='val', conf=0.6, iou=0.65)\n",
    "print(f\"mAP50: {results.box.map50}\")\n",
    "print(f\"mAP50-95: {results.box.map}\")\n",
    "print(f\"Precision: {results.box.mp}\")\n",
    "print(f\"Recall: {results.box.mr}\")\n"
   ]
  }
 ],
 "metadata": {
  "kernelspec": {
   "display_name": "venv",
   "language": "python",
   "name": "python3"
  },
  "language_info": {
   "codemirror_mode": {
    "name": "ipython",
    "version": 3
   },
   "file_extension": ".py",
   "mimetype": "text/x-python",
   "name": "python",
   "nbconvert_exporter": "python",
   "pygments_lexer": "ipython3",
   "version": "3.12.5"
  }
 },
 "nbformat": 4,
 "nbformat_minor": 2
}
