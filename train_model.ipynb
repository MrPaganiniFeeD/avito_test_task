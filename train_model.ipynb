{
 "cells": [
  {
   "cell_type": "markdown",
   "metadata": {},
   "source": [
    "**Обучение** модели `yolo11m.pt`"
   ]
  },
  {
   "cell_type": "code",
   "execution_count": null,
   "metadata": {},
   "outputs": [],
   "source": [
    "from ultralytics import YOLO\n",
    "\n",
    "model = YOLO(\"yolo11m.pt\")\n",
    "\n",
    "# Путь к data.yaml объединённого датасета\n",
    "data_path = \"dataset/combined/data.yaml\"\n",
    "\n",
    "results = model.train(\n",
    "    data=data_path,\n",
    "    epochs=200,\n",
    "    cache=True,\n",
    "    imgsz=640,\n",
    "    batch=32,\n",
    "    mosaic=True,\n",
    "    mixup=True,\n",
    "    hsv_h=0.015,\n",
    "    hsv_s=0.7,\n",
    "    hsv_v=0.4,\n",
    "    save_period=5,\n",
    "    patience=10,           \n",
    "    device=\"0,1\"          \n",
    ")\n",
    "\n",
    "results = model.val()\n",
    "print(f\"mAP50: {results.box.map50}\")\n",
    "print(f\"mAP50-95: {results.box.map}\")\n",
    "print(f\"Precision: {results.box.mp}\")\n",
    "print(f\"Recall: {results.box.mr}\")\n",
    "\n",
    "\n",
    "success = model.export(format=\"onnx\")"
   ]
  },
  {
   "cell_type": "code",
   "execution_count": null,
   "metadata": {},
   "outputs": [],
   "source": []
  }
 ],
 "metadata": {
  "kernelspec": {
   "display_name": "venv",
   "language": "python",
   "name": "python3"
  },
  "language_info": {
   "codemirror_mode": {
    "name": "ipython",
    "version": 3
   },
   "file_extension": ".py",
   "mimetype": "text/x-python",
   "name": "python",
   "nbconvert_exporter": "python",
   "pygments_lexer": "ipython3",
   "version": "3.12.5"
  }
 },
 "nbformat": 4,
 "nbformat_minor": 2
}
